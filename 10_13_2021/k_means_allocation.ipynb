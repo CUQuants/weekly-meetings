{
 "cells": [
  {
   "cell_type": "code",
   "execution_count": 1,
   "metadata": {},
   "outputs": [],
   "source": [
    "import numpy as np\n",
    "import pandas as pd\n",
    "import yfinance as yf\n",
    "import seaborn as sns\n",
    "import datetime as dt\n",
    "import matplotlib.pyplot as plt\n",
    "\n",
    "from kneed import KneeLocator\n",
    "from scipy.stats import mstats\n",
    "from sklearn.cluster import KMeans"
   ]
  },
  {
   "cell_type": "code",
   "execution_count": 2,
   "metadata": {},
   "outputs": [
    {
     "data": {
      "text/html": [
       "<div>\n",
       "<style scoped>\n",
       "    .dataframe tbody tr th:only-of-type {\n",
       "        vertical-align: middle;\n",
       "    }\n",
       "\n",
       "    .dataframe tbody tr th {\n",
       "        vertical-align: top;\n",
       "    }\n",
       "\n",
       "    .dataframe thead th {\n",
       "        text-align: right;\n",
       "    }\n",
       "</style>\n",
       "<table border=\"1\" class=\"dataframe\">\n",
       "  <thead>\n",
       "    <tr style=\"text-align: right;\">\n",
       "      <th></th>\n",
       "      <th>ROA</th>\n",
       "      <th>RPS</th>\n",
       "    </tr>\n",
       "    <tr>\n",
       "      <th>ticker</th>\n",
       "      <th></th>\n",
       "      <th></th>\n",
       "    </tr>\n",
       "  </thead>\n",
       "  <tbody>\n",
       "    <tr>\n",
       "      <th>SNPS</th>\n",
       "      <td>0.05847</td>\n",
       "      <td>26.727</td>\n",
       "    </tr>\n",
       "    <tr>\n",
       "      <th>A</th>\n",
       "      <td>0.08347</td>\n",
       "      <td>20.072</td>\n",
       "    </tr>\n",
       "    <tr>\n",
       "      <th>CBOE</th>\n",
       "      <td>0.07177</td>\n",
       "      <td>32.019</td>\n",
       "    </tr>\n",
       "    <tr>\n",
       "      <th>HBAN</th>\n",
       "      <td>0.00774</td>\n",
       "      <td>4.495</td>\n",
       "    </tr>\n",
       "    <tr>\n",
       "      <th>SJM</th>\n",
       "      <td>0.04814</td>\n",
       "      <td>71.065</td>\n",
       "    </tr>\n",
       "  </tbody>\n",
       "</table>\n",
       "</div>"
      ],
      "text/plain": [
       "            ROA     RPS\n",
       "ticker                 \n",
       "SNPS    0.05847  26.727\n",
       "A       0.08347  20.072\n",
       "CBOE    0.07177  32.019\n",
       "HBAN    0.00774   4.495\n",
       "SJM     0.04814  71.065"
      ]
     },
     "execution_count": 2,
     "metadata": {},
     "output_type": "execute_result"
    }
   ],
   "source": [
    "#lets read the csv file\n",
    "df = pd.read_csv(\"SP500_ROA_RPS.csv\", index_col = 0)\n",
    "df.head()"
   ]
  },
  {
   "cell_type": "code",
   "execution_count": 3,
   "metadata": {},
   "outputs": [
    {
     "data": {
      "image/png": "[encoded data removed]",
      "text/plain": [
       "<Figure size 1728x720 with 1 Axes>"
      ]
     },
     "metadata": {
      "needs_background": "light"
     },
     "output_type": "display_data"
    }
   ],
   "source": [
    "plt.figure(figsize = (24,10))\n",
    "plt.grid(True)\n",
    "plt.scatter(df['ROA'], df['RPS'])\n",
    "plt.title(\"50 Random S&P 500 tickers Return on Asset vs. Revenue Per Share Oct. 11th 2021\")\n",
    "plt.xlabel(\"Return on Assets (ROA)\")\n",
    "plt.ylabel(\"Return Per Share (RPS)\")\n",
    "plt.show()"
   ]
  },
  {
   "cell_type": "code",
   "execution_count": 4,
   "metadata": {},
   "outputs": [
    {
     "data": {
      "text/html": [
       "<div>\n",
       "<style scoped>\n",
       "    .dataframe tbody tr th:only-of-type {\n",
       "        vertical-align: middle;\n",
       "    }\n",
       "\n",
       "    .dataframe tbody tr th {\n",
       "        vertical-align: top;\n",
       "    }\n",
       "\n",
       "    .dataframe thead th {\n",
       "        text-align: right;\n",
       "    }\n",
       "</style>\n",
       "<table border=\"1\" class=\"dataframe\">\n",
       "  <thead>\n",
       "    <tr style=\"text-align: right;\">\n",
       "      <th></th>\n",
       "      <th>ROA</th>\n",
       "      <th>RPS</th>\n",
       "    </tr>\n",
       "    <tr>\n",
       "      <th>ticker</th>\n",
       "      <th></th>\n",
       "      <th></th>\n",
       "    </tr>\n",
       "  </thead>\n",
       "  <tbody>\n",
       "    <tr>\n",
       "      <th>SNPS</th>\n",
       "      <td>0.05847</td>\n",
       "      <td>26.727</td>\n",
       "    </tr>\n",
       "    <tr>\n",
       "      <th>A</th>\n",
       "      <td>0.08347</td>\n",
       "      <td>20.072</td>\n",
       "    </tr>\n",
       "    <tr>\n",
       "      <th>CBOE</th>\n",
       "      <td>0.07177</td>\n",
       "      <td>32.019</td>\n",
       "    </tr>\n",
       "    <tr>\n",
       "      <th>HBAN</th>\n",
       "      <td>0.00774</td>\n",
       "      <td>6.828</td>\n",
       "    </tr>\n",
       "    <tr>\n",
       "      <th>SJM</th>\n",
       "      <td>0.04814</td>\n",
       "      <td>71.065</td>\n",
       "    </tr>\n",
       "  </tbody>\n",
       "</table>\n",
       "</div>"
      ],
      "text/plain": [
       "            ROA     RPS\n",
       "ticker                 \n",
       "SNPS    0.05847  26.727\n",
       "A       0.08347  20.072\n",
       "CBOE    0.07177  32.019\n",
       "HBAN    0.00774   6.828\n",
       "SJM     0.04814  71.065"
      ]
     },
     "execution_count": 4,
     "metadata": {},
     "output_type": "execute_result"
    }
   ],
   "source": [
    "#the statistics are scaled to the company's size\n",
    "df['ROA'] = mstats.winsorize(df['ROA'], limits = [0.05, 0.05])\n",
    "df['RPS'] = mstats.winsorize(df['RPS'], limits = [0.05, 0.05])\n",
    "df.head()"
   ]
  },
  {
   "cell_type": "code",
   "execution_count": 5,
   "metadata": {},
   "outputs": [
    {
     "data": {
      "image/png": "[encoded data removed]",
      "text/plain": [
       "<Figure size 1728x720 with 1 Axes>"
      ]
     },
     "metadata": {
      "needs_background": "light"
     },
     "output_type": "display_data"
    }
   ],
   "source": [
    "plt.figure(figsize = (24,10))\n",
    "plt.grid(True)\n",
    "plt.scatter(df['ROA'], df['RPS'])\n",
    "plt.title(\"100 Random S&P 500 tickers Return on Asset vs. Revenue Per Share (Winsordized) Oct. 11th 2021\")\n",
    "plt.xlabel(\"Return on Assets (ROA)\")\n",
    "plt.ylabel(\"Return Per Share (RPS)\")\n",
    "plt.show()"
   ]
  },
  {
   "cell_type": "code",
   "execution_count": 6,
   "metadata": {},
   "outputs": [
    {
     "data": {
      "text/html": [
       "<div>\n",
       "<style scoped>\n",
       "    .dataframe tbody tr th:only-of-type {\n",
       "        vertical-align: middle;\n",
       "    }\n",
       "\n",
       "    .dataframe tbody tr th {\n",
       "        vertical-align: top;\n",
       "    }\n",
       "\n",
       "    .dataframe thead th {\n",
       "        text-align: right;\n",
       "    }\n",
       "</style>\n",
       "<table border=\"1\" class=\"dataframe\">\n",
       "  <thead>\n",
       "    <tr style=\"text-align: right;\">\n",
       "      <th></th>\n",
       "      <th>SSE</th>\n",
       "    </tr>\n",
       "    <tr>\n",
       "      <th>Cluster</th>\n",
       "      <th></th>\n",
       "    </tr>\n",
       "  </thead>\n",
       "  <tbody>\n",
       "    <tr>\n",
       "      <th>2</th>\n",
       "      <td>43663.768606</td>\n",
       "    </tr>\n",
       "    <tr>\n",
       "      <th>3</th>\n",
       "      <td>16708.567974</td>\n",
       "    </tr>\n",
       "    <tr>\n",
       "      <th>4</th>\n",
       "      <td>9703.836563</td>\n",
       "    </tr>\n",
       "    <tr>\n",
       "      <th>5</th>\n",
       "      <td>6300.847265</td>\n",
       "    </tr>\n",
       "    <tr>\n",
       "      <th>6</th>\n",
       "      <td>4485.122886</td>\n",
       "    </tr>\n",
       "  </tbody>\n",
       "</table>\n",
       "</div>"
      ],
      "text/plain": [
       "                  SSE\n",
       "Cluster              \n",
       "2        43663.768606\n",
       "3        16708.567974\n",
       "4         9703.836563\n",
       "5         6300.847265\n",
       "6         4485.122886"
      ]
     },
     "execution_count": 6,
     "metadata": {},
     "output_type": "execute_result"
    }
   ],
   "source": [
    "distorsions = []\n",
    "clusters_iterations = range(2,20)\n",
    "\n",
    "for k in clusters_iterations:\n",
    "    \n",
    "    kmeans = KMeans(n_clusters = k)\n",
    "    kmeans.fit(df)\n",
    "    distorsions.append(kmeans.inertia_)\n",
    "    \n",
    "elbow_curve = pd.DataFrame(zip(clusters_iterations, distorsions), columns = ['Cluster', 'SSE']).set_index('Cluster')\n",
    "elbow_curve.head()"
   ]
  },
  {
   "cell_type": "code",
   "execution_count": 7,
   "metadata": {},
   "outputs": [
    {
     "data": {
      "image/png": "[encoded data removed]",
      "text/plain": [
       "<Figure size 1728x720 with 1 Axes>"
      ]
     },
     "metadata": {
      "needs_background": "light"
     },
     "output_type": "display_data"
    }
   ],
   "source": [
    "plt.figure(figsize = (24,10))\n",
    "plt.plot(elbow_curve['SSE'])\n",
    "plt.title(\"Elbow Curve\")\n",
    "plt.grid(True)\n",
    "plt.show()"
   ]
  },
  {
   "cell_type": "code",
   "execution_count": 8,
   "metadata": {},
   "outputs": [
    {
     "name": "stdout",
     "output_type": "stream",
     "text": [
      "5\n"
     ]
    }
   ],
   "source": [
    "#this will find the optimal kmeans\n",
    "kl = KneeLocator(clusters_iterations, distorsions, curve = \"convex\", direction = \"decreasing\")\n",
    "elbow = kl.elbow\n",
    "print(kl.elbow)"
   ]
  },
  {
   "cell_type": "code",
   "execution_count": 9,
   "metadata": {},
   "outputs": [],
   "source": [
    "kmeans = KMeans(n_clusters = elbow)\n",
    "kmeans.fit(df)\n",
    "y_kmeans = kmeans.predict(df)\n",
    "df_kmeans = df.copy()\n",
    "df_kmeans['cluster'] = y_kmeans.astype(str)"
   ]
  },
  {
   "cell_type": "code",
   "execution_count": 10,
   "metadata": {},
   "outputs": [
    {
     "data": {
      "text/plain": [
       "Text(0.5, 1.0, 'KMeans clustering for ROA vs. RPS')"
      ]
     },
     "execution_count": 10,
     "metadata": {},
     "output_type": "execute_result"
    },
    {
     "data": {
      "image/png": "[encoded data removed]",
      "text/plain": [
       "<Figure size 1728x720 with 1 Axes>"
      ]
     },
     "metadata": {
      "needs_background": "light"
     },
     "output_type": "display_data"
    }
   ],
   "source": [
    "plt.figure(figsize = (24,10))\n",
    "plt.grid(True)\n",
    "plot = sns.scatterplot(x = df['ROA'], y = df['RPS'], hue = df_kmeans['cluster'].astype(int), palette = ['blue','green','yellow','orange','red'], data = df_kmeans)\n",
    "plt.title(\"KMeans clustering for ROA vs. RPS\")"
   ]
  },
  {
   "cell_type": "code",
   "execution_count": 11,
   "metadata": {},
   "outputs": [
    {
     "data": {
      "text/html": [
       "<div>\n",
       "<style scoped>\n",
       "    .dataframe tbody tr th:only-of-type {\n",
       "        vertical-align: middle;\n",
       "    }\n",
       "\n",
       "    .dataframe tbody tr th {\n",
       "        vertical-align: top;\n",
       "    }\n",
       "\n",
       "    .dataframe thead th {\n",
       "        text-align: right;\n",
       "    }\n",
       "</style>\n",
       "<table border=\"1\" class=\"dataframe\">\n",
       "  <thead>\n",
       "    <tr style=\"text-align: right;\">\n",
       "      <th></th>\n",
       "      <th>ROA</th>\n",
       "      <th>RPS</th>\n",
       "    </tr>\n",
       "  </thead>\n",
       "  <tbody>\n",
       "    <tr>\n",
       "      <th>0</th>\n",
       "      <td>0.063248</td>\n",
       "      <td>36.400625</td>\n",
       "    </tr>\n",
       "    <tr>\n",
       "      <th>1</th>\n",
       "      <td>0.061979</td>\n",
       "      <td>153.331091</td>\n",
       "    </tr>\n",
       "    <tr>\n",
       "      <th>2</th>\n",
       "      <td>0.055407</td>\n",
       "      <td>16.970022</td>\n",
       "    </tr>\n",
       "    <tr>\n",
       "      <th>3</th>\n",
       "      <td>0.054420</td>\n",
       "      <td>66.796357</td>\n",
       "    </tr>\n",
       "    <tr>\n",
       "      <th>4</th>\n",
       "      <td>0.048805</td>\n",
       "      <td>102.596333</td>\n",
       "    </tr>\n",
       "  </tbody>\n",
       "</table>\n",
       "</div>"
      ],
      "text/plain": [
       "        ROA         RPS\n",
       "0  0.063248   36.400625\n",
       "1  0.061979  153.331091\n",
       "2  0.055407   16.970022\n",
       "3  0.054420   66.796357\n",
       "4  0.048805  102.596333"
      ]
     },
     "execution_count": 11,
     "metadata": {},
     "output_type": "execute_result"
    }
   ],
   "source": [
    "clusters_centers_df = pd.DataFrame(kmeans.cluster_centers_, columns = ['ROA', 'RPS'])\n",
    "clusters_centers_df.head()"
   ]
  },
  {
   "cell_type": "code",
   "execution_count": 12,
   "metadata": {},
   "outputs": [
    {
     "data": {
      "text/html": [
       "<div>\n",
       "<style scoped>\n",
       "    .dataframe tbody tr th:only-of-type {\n",
       "        vertical-align: middle;\n",
       "    }\n",
       "\n",
       "    .dataframe tbody tr th {\n",
       "        vertical-align: top;\n",
       "    }\n",
       "\n",
       "    .dataframe thead th {\n",
       "        text-align: right;\n",
       "    }\n",
       "</style>\n",
       "<table border=\"1\" class=\"dataframe\">\n",
       "  <thead>\n",
       "    <tr style=\"text-align: right;\">\n",
       "      <th></th>\n",
       "      <th>Company</th>\n",
       "    </tr>\n",
       "    <tr>\n",
       "      <th>Cluster</th>\n",
       "      <th></th>\n",
       "    </tr>\n",
       "  </thead>\n",
       "  <tbody>\n",
       "    <tr>\n",
       "      <th>0</th>\n",
       "      <td>SNPS</td>\n",
       "    </tr>\n",
       "    <tr>\n",
       "      <th>2</th>\n",
       "      <td>A</td>\n",
       "    </tr>\n",
       "    <tr>\n",
       "      <th>0</th>\n",
       "      <td>CBOE</td>\n",
       "    </tr>\n",
       "    <tr>\n",
       "      <th>2</th>\n",
       "      <td>HBAN</td>\n",
       "    </tr>\n",
       "    <tr>\n",
       "      <th>3</th>\n",
       "      <td>SJM</td>\n",
       "    </tr>\n",
       "  </tbody>\n",
       "</table>\n",
       "</div>"
      ],
      "text/plain": [
       "        Company\n",
       "Cluster        \n",
       "0          SNPS\n",
       "2             A\n",
       "0          CBOE\n",
       "2          HBAN\n",
       "3           SJM"
      ]
     },
     "execution_count": 12,
     "metadata": {},
     "output_type": "execute_result"
    }
   ],
   "source": [
    "clustering_result = pd.DataFrame(zip(y_kmeans, df.index), columns = ['Cluster', 'Company'])\n",
    "clustering_result.set_index(\"Cluster\").head()"
   ]
  },
  {
   "cell_type": "code",
   "execution_count": 13,
   "metadata": {},
   "outputs": [
    {
     "name": "stdout",
     "output_type": "stream",
     "text": [
      "        Company\n",
      "Cluster        \n",
      "0          SNPS\n",
      "0          CBOE\n",
      "0           XYL\n",
      "0            BR\n",
      "0           WST\n",
      "        Company\n",
      "Cluster        \n",
      "2             A\n",
      "2          HBAN\n",
      "2          SBUX\n",
      "2          ZION\n",
      "2           GLW\n",
      "        Company\n",
      "Cluster        \n",
      "3           SJM\n",
      "3          PCAR\n",
      "3           PGR\n",
      "3          BIIB\n",
      "3           PXD\n",
      "        Company\n",
      "Cluster        \n",
      "4          SIVB\n",
      "4           SWK\n",
      "4           BLK\n",
      "4            PH\n",
      "4           LHX\n",
      "        Company\n",
      "Cluster        \n",
      "1           MPC\n",
      "1           CMG\n",
      "1         GOOGL\n",
      "1           CNC\n",
      "1           ALL\n"
     ]
    }
   ],
   "source": [
    "for cluster_num in list(clustering_result.set_index('Cluster').index.unique()):\n",
    "    print(clustering_result.set_index('Cluster').loc[cluster_num].head())"
   ]
  },
  {
   "cell_type": "code",
   "execution_count": 14,
   "metadata": {},
   "outputs": [
    {
     "data": {
      "text/html": [
       "<div>\n",
       "<style scoped>\n",
       "    .dataframe tbody tr th:only-of-type {\n",
       "        vertical-align: middle;\n",
       "    }\n",
       "\n",
       "    .dataframe tbody tr th {\n",
       "        vertical-align: top;\n",
       "    }\n",
       "\n",
       "    .dataframe thead th {\n",
       "        text-align: right;\n",
       "    }\n",
       "</style>\n",
       "<table border=\"1\" class=\"dataframe\">\n",
       "  <thead>\n",
       "    <tr style=\"text-align: right;\">\n",
       "      <th></th>\n",
       "      <th>ROA</th>\n",
       "      <th>RPS</th>\n",
       "      <th>Count</th>\n",
       "    </tr>\n",
       "  </thead>\n",
       "  <tbody>\n",
       "    <tr>\n",
       "      <th>0</th>\n",
       "      <td>0.063248</td>\n",
       "      <td>36.400625</td>\n",
       "      <td>24</td>\n",
       "    </tr>\n",
       "    <tr>\n",
       "      <th>1</th>\n",
       "      <td>0.061979</td>\n",
       "      <td>153.331091</td>\n",
       "      <td>11</td>\n",
       "    </tr>\n",
       "    <tr>\n",
       "      <th>2</th>\n",
       "      <td>0.055407</td>\n",
       "      <td>16.970022</td>\n",
       "      <td>45</td>\n",
       "    </tr>\n",
       "    <tr>\n",
       "      <th>3</th>\n",
       "      <td>0.054420</td>\n",
       "      <td>66.796357</td>\n",
       "      <td>14</td>\n",
       "    </tr>\n",
       "    <tr>\n",
       "      <th>4</th>\n",
       "      <td>0.048805</td>\n",
       "      <td>102.596333</td>\n",
       "      <td>6</td>\n",
       "    </tr>\n",
       "  </tbody>\n",
       "</table>\n",
       "</div>"
      ],
      "text/plain": [
       "        ROA         RPS  Count\n",
       "0  0.063248   36.400625     24\n",
       "1  0.061979  153.331091     11\n",
       "2  0.055407   16.970022     45\n",
       "3  0.054420   66.796357     14\n",
       "4  0.048805  102.596333      6"
      ]
     },
     "execution_count": 14,
     "metadata": {},
     "output_type": "execute_result"
    }
   ],
   "source": [
    "clusters_centers_df['Count'] = clustering_result['Cluster'].value_counts().to_frame().rename(columns = {'Cluster': 'Count'})['Count']\n",
    "clusters_centers_df.head()"
   ]
  },
  {
   "cell_type": "code",
   "execution_count": 15,
   "metadata": {},
   "outputs": [
    {
     "data": {
      "image/png": "[encoded data removed]",
      "text/plain": [
       "<Figure size 1728x720 with 1 Axes>"
      ]
     },
     "metadata": {
      "needs_background": "light"
     },
     "output_type": "display_data"
    }
   ],
   "source": [
    "plt.figure(figsize = (24,10))\n",
    "plt.bar(clusters_centers_df.index.values, clusters_centers_df['Count'])\n",
    "plt.title(\"Count of Elements by Cluster\")\n",
    "plt.grid()\n",
    "plt.show()"
   ]
  },
  {
   "cell_type": "code",
   "execution_count": 16,
   "metadata": {},
   "outputs": [
    {
     "name": "stdout",
     "output_type": "stream",
     "text": [
      "[*********************100%***********************]  100 of 100 completed\n"
     ]
    },
    {
     "data": {
      "text/html": [
       "<div>\n",
       "<style scoped>\n",
       "    .dataframe tbody tr th:only-of-type {\n",
       "        vertical-align: middle;\n",
       "    }\n",
       "\n",
       "    .dataframe tbody tr th {\n",
       "        vertical-align: top;\n",
       "    }\n",
       "\n",
       "    .dataframe thead tr th {\n",
       "        text-align: left;\n",
       "    }\n",
       "\n",
       "    .dataframe thead tr:last-of-type th {\n",
       "        text-align: right;\n",
       "    }\n",
       "</style>\n",
       "<table border=\"1\" class=\"dataframe\">\n",
       "  <thead>\n",
       "    <tr>\n",
       "      <th></th>\n",
       "      <th colspan=\"10\" halign=\"left\">Adj Close</th>\n",
       "      <th>...</th>\n",
       "      <th colspan=\"10\" halign=\"left\">Volume</th>\n",
       "    </tr>\n",
       "    <tr>\n",
       "      <th></th>\n",
       "      <th>A</th>\n",
       "      <th>ABC</th>\n",
       "      <th>AEP</th>\n",
       "      <th>AES</th>\n",
       "      <th>AFL</th>\n",
       "      <th>AIZ</th>\n",
       "      <th>ALGN</th>\n",
       "      <th>ALK</th>\n",
       "      <th>ALL</th>\n",
       "      <th>AME</th>\n",
       "      <th>...</th>\n",
       "      <th>TER</th>\n",
       "      <th>TPR</th>\n",
       "      <th>UHS</th>\n",
       "      <th>VTR</th>\n",
       "      <th>WEC</th>\n",
       "      <th>WRB</th>\n",
       "      <th>WST</th>\n",
       "      <th>XYL</th>\n",
       "      <th>ZBH</th>\n",
       "      <th>ZION</th>\n",
       "    </tr>\n",
       "    <tr>\n",
       "      <th>Date</th>\n",
       "      <th></th>\n",
       "      <th></th>\n",
       "      <th></th>\n",
       "      <th></th>\n",
       "      <th></th>\n",
       "      <th></th>\n",
       "      <th></th>\n",
       "      <th></th>\n",
       "      <th></th>\n",
       "      <th></th>\n",
       "      <th></th>\n",
       "      <th></th>\n",
       "      <th></th>\n",
       "      <th></th>\n",
       "      <th></th>\n",
       "      <th></th>\n",
       "      <th></th>\n",
       "      <th></th>\n",
       "      <th></th>\n",
       "      <th></th>\n",
       "      <th></th>\n",
       "    </tr>\n",
       "  </thead>\n",
       "  <tbody>\n",
       "    <tr>\n",
       "      <th>2019-05-24</th>\n",
       "      <td>67.099228</td>\n",
       "      <td>77.633804</td>\n",
       "      <td>82.053131</td>\n",
       "      <td>15.414663</td>\n",
       "      <td>49.167660</td>\n",
       "      <td>96.530182</td>\n",
       "      <td>311.470001</td>\n",
       "      <td>59.601097</td>\n",
       "      <td>91.194839</td>\n",
       "      <td>83.068367</td>\n",
       "      <td>...</td>\n",
       "      <td>2065600</td>\n",
       "      <td>5984300</td>\n",
       "      <td>547600</td>\n",
       "      <td>1189200</td>\n",
       "      <td>1327700</td>\n",
       "      <td>420800</td>\n",
       "      <td>154700</td>\n",
       "      <td>818500.0</td>\n",
       "      <td>586400</td>\n",
       "      <td>1468400</td>\n",
       "    </tr>\n",
       "    <tr>\n",
       "      <th>2019-05-28</th>\n",
       "      <td>65.842842</td>\n",
       "      <td>77.835876</td>\n",
       "      <td>80.547562</td>\n",
       "      <td>15.265187</td>\n",
       "      <td>48.496456</td>\n",
       "      <td>96.357895</td>\n",
       "      <td>304.809998</td>\n",
       "      <td>59.069912</td>\n",
       "      <td>89.983566</td>\n",
       "      <td>82.517792</td>\n",
       "      <td>...</td>\n",
       "      <td>1804500</td>\n",
       "      <td>9148500</td>\n",
       "      <td>666200</td>\n",
       "      <td>2364400</td>\n",
       "      <td>2229600</td>\n",
       "      <td>839600</td>\n",
       "      <td>141500</td>\n",
       "      <td>994100.0</td>\n",
       "      <td>842000</td>\n",
       "      <td>3367100</td>\n",
       "    </tr>\n",
       "    <tr>\n",
       "      <th>2019-05-29</th>\n",
       "      <td>66.058769</td>\n",
       "      <td>75.391769</td>\n",
       "      <td>79.636787</td>\n",
       "      <td>15.003604</td>\n",
       "      <td>48.619354</td>\n",
       "      <td>96.568466</td>\n",
       "      <td>297.410004</td>\n",
       "      <td>58.302643</td>\n",
       "      <td>91.062363</td>\n",
       "      <td>81.986877</td>\n",
       "      <td>...</td>\n",
       "      <td>2195800</td>\n",
       "      <td>4587700</td>\n",
       "      <td>691300</td>\n",
       "      <td>1430300</td>\n",
       "      <td>1540100</td>\n",
       "      <td>603000</td>\n",
       "      <td>161600</td>\n",
       "      <td>1023800.0</td>\n",
       "      <td>1250600</td>\n",
       "      <td>1968000</td>\n",
       "    </tr>\n",
       "    <tr>\n",
       "      <th>2019-05-30</th>\n",
       "      <td>65.656342</td>\n",
       "      <td>75.362915</td>\n",
       "      <td>79.274338</td>\n",
       "      <td>14.844787</td>\n",
       "      <td>48.751701</td>\n",
       "      <td>96.482330</td>\n",
       "      <td>296.679993</td>\n",
       "      <td>57.820641</td>\n",
       "      <td>91.214546</td>\n",
       "      <td>82.399803</td>\n",
       "      <td>...</td>\n",
       "      <td>1508300</td>\n",
       "      <td>5787600</td>\n",
       "      <td>503700</td>\n",
       "      <td>1536300</td>\n",
       "      <td>1325800</td>\n",
       "      <td>346400</td>\n",
       "      <td>124400</td>\n",
       "      <td>359400.0</td>\n",
       "      <td>628900</td>\n",
       "      <td>1291300</td>\n",
       "    </tr>\n",
       "    <tr>\n",
       "      <th>2019-05-31</th>\n",
       "      <td>65.813393</td>\n",
       "      <td>74.920273</td>\n",
       "      <td>80.036430</td>\n",
       "      <td>14.760706</td>\n",
       "      <td>48.496456</td>\n",
       "      <td>95.678314</td>\n",
       "      <td>284.350006</td>\n",
       "      <td>57.250107</td>\n",
       "      <td>90.853088</td>\n",
       "      <td>80.512115</td>\n",
       "      <td>...</td>\n",
       "      <td>2178500</td>\n",
       "      <td>4355100</td>\n",
       "      <td>608800</td>\n",
       "      <td>1959100</td>\n",
       "      <td>1820800</td>\n",
       "      <td>563600</td>\n",
       "      <td>212200</td>\n",
       "      <td>800400.0</td>\n",
       "      <td>1381000</td>\n",
       "      <td>2510800</td>\n",
       "    </tr>\n",
       "  </tbody>\n",
       "</table>\n",
       "<p>5 rows × 600 columns</p>\n",
       "</div>"
      ],
      "text/plain": [
       "            Adj Close                                                         \\\n",
       "                    A        ABC        AEP        AES        AFL        AIZ   \n",
       "Date                                                                           \n",
       "2019-05-24  67.099228  77.633804  82.053131  15.414663  49.167660  96.530182   \n",
       "2019-05-28  65.842842  77.835876  80.547562  15.265187  48.496456  96.357895   \n",
       "2019-05-29  66.058769  75.391769  79.636787  15.003604  48.619354  96.568466   \n",
       "2019-05-30  65.656342  75.362915  79.274338  14.844787  48.751701  96.482330   \n",
       "2019-05-31  65.813393  74.920273  80.036430  14.760706  48.496456  95.678314   \n",
       "\n",
       "                                                         ...   Volume  \\\n",
       "                  ALGN        ALK        ALL        AME  ...      TER   \n",
       "Date                                                     ...            \n",
       "2019-05-24  311.470001  59.601097  91.194839  83.068367  ...  2065600   \n",
       "2019-05-28  304.809998  59.069912  89.983566  82.517792  ...  1804500   \n",
       "2019-05-29  297.410004  58.302643  91.062363  81.986877  ...  2195800   \n",
       "2019-05-30  296.679993  57.820641  91.214546  82.399803  ...  1508300   \n",
       "2019-05-31  284.350006  57.250107  90.853088  80.512115  ...  2178500   \n",
       "\n",
       "                                                                          \\\n",
       "                TPR     UHS      VTR      WEC     WRB     WST        XYL   \n",
       "Date                                                                       \n",
       "2019-05-24  5984300  547600  1189200  1327700  420800  154700   818500.0   \n",
       "2019-05-28  9148500  666200  2364400  2229600  839600  141500   994100.0   \n",
       "2019-05-29  4587700  691300  1430300  1540100  603000  161600  1023800.0   \n",
       "2019-05-30  5787600  503700  1536300  1325800  346400  124400   359400.0   \n",
       "2019-05-31  4355100  608800  1959100  1820800  563600  212200   800400.0   \n",
       "\n",
       "                              \n",
       "                ZBH     ZION  \n",
       "Date                          \n",
       "2019-05-24   586400  1468400  \n",
       "2019-05-28   842000  3367100  \n",
       "2019-05-29  1250600  1968000  \n",
       "2019-05-30   628900  1291300  \n",
       "2019-05-31  1381000  2510800  \n",
       "\n",
       "[5 rows x 600 columns]"
      ]
     },
     "execution_count": 16,
     "metadata": {},
     "output_type": "execute_result"
    }
   ],
   "source": [
    "end = dt.date.today()\n",
    "start = dt.date(end.year - 10, end.month, end.day)\n",
    "df = yf.download(df.index.to_list(), start, end).dropna()\n",
    "df.head()"
   ]
  },
  {
   "cell_type": "code",
   "execution_count": 17,
   "metadata": {},
   "outputs": [
    {
     "data": {
      "text/html": [
       "<div>\n",
       "<style scoped>\n",
       "    .dataframe tbody tr th:only-of-type {\n",
       "        vertical-align: middle;\n",
       "    }\n",
       "\n",
       "    .dataframe tbody tr th {\n",
       "        vertical-align: top;\n",
       "    }\n",
       "\n",
       "    .dataframe thead th {\n",
       "        text-align: right;\n",
       "    }\n",
       "</style>\n",
       "<table border=\"1\" class=\"dataframe\">\n",
       "  <thead>\n",
       "    <tr style=\"text-align: right;\">\n",
       "      <th></th>\n",
       "      <th>Company</th>\n",
       "    </tr>\n",
       "    <tr>\n",
       "      <th>Cluster</th>\n",
       "      <th></th>\n",
       "    </tr>\n",
       "  </thead>\n",
       "  <tbody>\n",
       "    <tr>\n",
       "      <th>0</th>\n",
       "      <td>4.0</td>\n",
       "    </tr>\n",
       "    <tr>\n",
       "      <th>1</th>\n",
       "      <td>2.0</td>\n",
       "    </tr>\n",
       "    <tr>\n",
       "      <th>2</th>\n",
       "      <td>7.0</td>\n",
       "    </tr>\n",
       "    <tr>\n",
       "      <th>3</th>\n",
       "      <td>2.0</td>\n",
       "    </tr>\n",
       "    <tr>\n",
       "      <th>4</th>\n",
       "      <td>1.0</td>\n",
       "    </tr>\n",
       "  </tbody>\n",
       "</table>\n",
       "</div>"
      ],
      "text/plain": [
       "         Company\n",
       "Cluster         \n",
       "0            4.0\n",
       "1            2.0\n",
       "2            7.0\n",
       "3            2.0\n",
       "4            1.0"
      ]
     },
     "execution_count": 17,
     "metadata": {},
     "output_type": "execute_result"
    }
   ],
   "source": [
    "stock_count = 15\n",
    "stock_count_by_cluster = pd.DataFrame(round(stock_count * clustering_result.groupby(by = 'Cluster').count()['Company'] / clustering_result.count()['Company'], 0))\n",
    "stock_count_by_cluster"
   ]
  },
  {
   "cell_type": "code",
   "execution_count": null,
   "metadata": {},
   "outputs": [],
   "source": []
  },
  {
   "cell_type": "code",
   "execution_count": null,
   "metadata": {},
   "outputs": [],
   "source": []
  }
 ],
 "metadata": {
  "kernelspec": {
   "display_name": "Python 3",
   "language": "python",
   "name": "python3"
  },
  "language_info": {
   "codemirror_mode": {
    "name": "ipython",
    "version": 3
   },
   "file_extension": ".py",
   "mimetype": "text/x-python",
   "name": "python",
   "nbconvert_exporter": "python",
   "pygments_lexer": "ipython3",
   "version": "3.7.3"
  }
 },
 "nbformat": 4,
 "nbformat_minor": 2
}
