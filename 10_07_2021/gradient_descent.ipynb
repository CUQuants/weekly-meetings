{
 "cells": [
  {
   "cell_type": "code",
   "execution_count": 4,
   "metadata": {},
   "outputs": [],
   "source": [
    "def GradientDescent(f, f_grad, init, alpha = 1, tol = 1e-5, max_iter = 1000):\n",
    "    \n",
    "    xk = init\n",
    "    fk = f(xk)\n",
    "    pk = -fprime(xk)\n",
    "    \n",
    "    num_iter = 0\n",
    "    curve_x = [xk]\n",
    "    curve_y = [fk]\n",
    "    \n",
    "    while abs(pk) > tol and num_iter < max_iter:\n",
    "        \n",
    "        xk = xk + alpha * pk\n",
    "        fk = func(xk)\n",
    "        pk = -fprime(xk)\n",
    "        \n",
    "        \n",
    "        num_iter += 1\n",
    "        curve_x.append(xk)\n",
    "        curve_y.append(fk)\n",
    "        \n",
    "    if num_iter == max_iter:\n",
    "        print('Gradient Descent does not converge')\n",
    "        \n",
    "    else:\n",
    "        print('Solution found: \\n y = {:.4f}\\n x = {:.4f}'.format(fk, xk))\n",
    "        \n",
    "    return curve_x, curve_y"
   ]
  },
  {
   "cell_type": "code",
   "execution_count": null,
   "metadata": {},
   "outputs": [],
   "source": [
    "xs, ys = GradientDescentSimplie"
   ]
  }
 ],
 "metadata": {
  "kernelspec": {
   "display_name": "Python 3",
   "language": "python",
   "name": "python3"
  },
  "language_info": {
   "codemirror_mode": {
    "name": "ipython",
    "version": 3
   },
   "file_extension": ".py",
   "mimetype": "text/x-python",
   "name": "python",
   "nbconvert_exporter": "python",
   "pygments_lexer": "ipython3",
   "version": "3.8.5"
  }
 },
 "nbformat": 4,
 "nbformat_minor": 4
}
